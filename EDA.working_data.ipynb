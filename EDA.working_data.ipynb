{
 "cells": [
  {
   "cell_type": "code",
   "execution_count": 19,
   "id": "f044e415",
   "metadata": {},
   "outputs": [],
   "source": [
    "import pandas as pd\n",
    "import seaborn as sns\n",
    "import matplotlib as plt\n",
    "from datetime import timedelta, date\n",
    "import ast"
   ]
  },
  {
   "cell_type": "markdown",
   "id": "9419566c",
   "metadata": {},
   "source": [
    "# Load Data\n",
    "Load and prepare data for exploratory data analysis."
   ]
  },
  {
   "cell_type": "code",
   "execution_count": 20,
   "id": "9b08af1a",
   "metadata": {},
   "outputs": [
    {
     "data": {
      "text/html": [
       "<div>\n",
       "<style scoped>\n",
       "    .dataframe tbody tr th:only-of-type {\n",
       "        vertical-align: middle;\n",
       "    }\n",
       "\n",
       "    .dataframe tbody tr th {\n",
       "        vertical-align: top;\n",
       "    }\n",
       "\n",
       "    .dataframe thead th {\n",
       "        text-align: right;\n",
       "    }\n",
       "</style>\n",
       "<table border=\"1\" class=\"dataframe\">\n",
       "  <thead>\n",
       "    <tr style=\"text-align: right;\">\n",
       "      <th></th>\n",
       "      <th>name</th>\n",
       "      <th>year</th>\n",
       "      <th>letterboxd_uri</th>\n",
       "      <th>rating</th>\n",
       "      <th>rewatch</th>\n",
       "      <th>watched_date</th>\n",
       "      <th>movie_id</th>\n",
       "      <th>language</th>\n",
       "      <th>poster</th>\n",
       "      <th>popularity</th>\n",
       "      <th>vote_average</th>\n",
       "      <th>release_date</th>\n",
       "      <th>genres</th>\n",
       "      <th>origin_country</th>\n",
       "      <th>revenue</th>\n",
       "      <th>runtime</th>\n",
       "      <th>tagline</th>\n",
       "      <th>cast</th>\n",
       "      <th>director</th>\n",
       "    </tr>\n",
       "  </thead>\n",
       "  <tbody>\n",
       "    <tr>\n",
       "      <th>0</th>\n",
       "      <td>Godzilla vs. Kong</td>\n",
       "      <td>2021</td>\n",
       "      <td>https://boxd.it/1PXghH</td>\n",
       "      <td>3.0</td>\n",
       "      <td>NaN</td>\n",
       "      <td>2021-05-03</td>\n",
       "      <td>399566</td>\n",
       "      <td>en</td>\n",
       "      <td>https://image.tmdb.org/t/p/original'/pgqgaUx1c...</td>\n",
       "      <td>123.613</td>\n",
       "      <td>7.618</td>\n",
       "      <td>2021-03-24</td>\n",
       "      <td>['Action', 'Science Fiction', 'Adventure']</td>\n",
       "      <td>['US']</td>\n",
       "      <td>470116094</td>\n",
       "      <td>114</td>\n",
       "      <td>One will fall.</td>\n",
       "      <td>[{'name': 'Alexander Skarsgård', 'gender': 2},...</td>\n",
       "      <td>['Adam Wingard']</td>\n",
       "    </tr>\n",
       "    <tr>\n",
       "      <th>1</th>\n",
       "      <td>The Woman in the Window</td>\n",
       "      <td>2021</td>\n",
       "      <td>https://boxd.it/1S4UiR</td>\n",
       "      <td>2.5</td>\n",
       "      <td>NaN</td>\n",
       "      <td>2021-05-19</td>\n",
       "      <td>520663</td>\n",
       "      <td>en</td>\n",
       "      <td>https://image.tmdb.org/t/p/original'/wcrjc1uwQ...</td>\n",
       "      <td>20.960</td>\n",
       "      <td>6.020</td>\n",
       "      <td>2021-05-13</td>\n",
       "      <td>['Crime', 'Mystery', 'Thriller']</td>\n",
       "      <td>['US']</td>\n",
       "      <td>0</td>\n",
       "      <td>102</td>\n",
       "      <td>She has nothing to prove but what's real.</td>\n",
       "      <td>[{'name': 'Amy Adams', 'gender': 1}, {'name': ...</td>\n",
       "      <td>['Joe Wright']</td>\n",
       "    </tr>\n",
       "    <tr>\n",
       "      <th>2</th>\n",
       "      <td>About Time</td>\n",
       "      <td>2013</td>\n",
       "      <td>https://boxd.it/1SLTdH</td>\n",
       "      <td>4.5</td>\n",
       "      <td>NaN</td>\n",
       "      <td>2021-05-24</td>\n",
       "      <td>122906</td>\n",
       "      <td>en</td>\n",
       "      <td>https://image.tmdb.org/t/p/original'/iR1bVfURb...</td>\n",
       "      <td>54.267</td>\n",
       "      <td>7.918</td>\n",
       "      <td>2013-09-04</td>\n",
       "      <td>['Drama', 'Romance', 'Fantasy']</td>\n",
       "      <td>['GB']</td>\n",
       "      <td>87100449</td>\n",
       "      <td>123</td>\n",
       "      <td>What if every moment in life came with a secon...</td>\n",
       "      <td>[{'name': 'Domhnall Gleeson', 'gender': 2}, {'...</td>\n",
       "      <td>['Richard Curtis']</td>\n",
       "    </tr>\n",
       "    <tr>\n",
       "      <th>3</th>\n",
       "      <td>Pretty Woman</td>\n",
       "      <td>1990</td>\n",
       "      <td>https://boxd.it/1T0ZVb</td>\n",
       "      <td>2.5</td>\n",
       "      <td>NaN</td>\n",
       "      <td>2021-05-26</td>\n",
       "      <td>114</td>\n",
       "      <td>en</td>\n",
       "      <td>https://image.tmdb.org/t/p/original'/dZXpE4Ble...</td>\n",
       "      <td>56.968</td>\n",
       "      <td>7.500</td>\n",
       "      <td>1990-03-23</td>\n",
       "      <td>['Comedy', 'Romance']</td>\n",
       "      <td>['US']</td>\n",
       "      <td>463406268</td>\n",
       "      <td>119</td>\n",
       "      <td>She walked off the street, into his life and s...</td>\n",
       "      <td>[{'name': 'Richard Gere', 'gender': 2}, {'name...</td>\n",
       "      <td>['Garry Marshall']</td>\n",
       "    </tr>\n",
       "    <tr>\n",
       "      <th>4</th>\n",
       "      <td>The Handmaiden</td>\n",
       "      <td>2016</td>\n",
       "      <td>https://boxd.it/1TZaH5</td>\n",
       "      <td>4.0</td>\n",
       "      <td>NaN</td>\n",
       "      <td>2021-06-02</td>\n",
       "      <td>290098</td>\n",
       "      <td>ko</td>\n",
       "      <td>https://image.tmdb.org/t/p/original'/dLlH4aNHd...</td>\n",
       "      <td>60.195</td>\n",
       "      <td>8.225</td>\n",
       "      <td>2016-06-01</td>\n",
       "      <td>['Thriller', 'Drama', 'Romance']</td>\n",
       "      <td>['KR']</td>\n",
       "      <td>38600000</td>\n",
       "      <td>145</td>\n",
       "      <td>Never did they expect to get into a controvers...</td>\n",
       "      <td>[{'name': 'Kim Min-hee', 'gender': 1}, {'name'...</td>\n",
       "      <td>['Park Chan-wook']</td>\n",
       "    </tr>\n",
       "  </tbody>\n",
       "</table>\n",
       "</div>"
      ],
      "text/plain": [
       "                      name  year          letterboxd_uri  rating rewatch  \\\n",
       "0        Godzilla vs. Kong  2021  https://boxd.it/1PXghH     3.0     NaN   \n",
       "1  The Woman in the Window  2021  https://boxd.it/1S4UiR     2.5     NaN   \n",
       "2               About Time  2013  https://boxd.it/1SLTdH     4.5     NaN   \n",
       "3             Pretty Woman  1990  https://boxd.it/1T0ZVb     2.5     NaN   \n",
       "4           The Handmaiden  2016  https://boxd.it/1TZaH5     4.0     NaN   \n",
       "\n",
       "  watched_date  movie_id language  \\\n",
       "0   2021-05-03    399566       en   \n",
       "1   2021-05-19    520663       en   \n",
       "2   2021-05-24    122906       en   \n",
       "3   2021-05-26       114       en   \n",
       "4   2021-06-02    290098       ko   \n",
       "\n",
       "                                              poster  popularity  \\\n",
       "0  https://image.tmdb.org/t/p/original'/pgqgaUx1c...     123.613   \n",
       "1  https://image.tmdb.org/t/p/original'/wcrjc1uwQ...      20.960   \n",
       "2  https://image.tmdb.org/t/p/original'/iR1bVfURb...      54.267   \n",
       "3  https://image.tmdb.org/t/p/original'/dZXpE4Ble...      56.968   \n",
       "4  https://image.tmdb.org/t/p/original'/dLlH4aNHd...      60.195   \n",
       "\n",
       "   vote_average release_date                                      genres  \\\n",
       "0         7.618   2021-03-24  ['Action', 'Science Fiction', 'Adventure']   \n",
       "1         6.020   2021-05-13            ['Crime', 'Mystery', 'Thriller']   \n",
       "2         7.918   2013-09-04             ['Drama', 'Romance', 'Fantasy']   \n",
       "3         7.500   1990-03-23                       ['Comedy', 'Romance']   \n",
       "4         8.225   2016-06-01            ['Thriller', 'Drama', 'Romance']   \n",
       "\n",
       "  origin_country    revenue  runtime  \\\n",
       "0         ['US']  470116094      114   \n",
       "1         ['US']          0      102   \n",
       "2         ['GB']   87100449      123   \n",
       "3         ['US']  463406268      119   \n",
       "4         ['KR']   38600000      145   \n",
       "\n",
       "                                             tagline  \\\n",
       "0                                     One will fall.   \n",
       "1          She has nothing to prove but what's real.   \n",
       "2  What if every moment in life came with a secon...   \n",
       "3  She walked off the street, into his life and s...   \n",
       "4  Never did they expect to get into a controvers...   \n",
       "\n",
       "                                                cast            director  \n",
       "0  [{'name': 'Alexander Skarsgård', 'gender': 2},...    ['Adam Wingard']  \n",
       "1  [{'name': 'Amy Adams', 'gender': 1}, {'name': ...      ['Joe Wright']  \n",
       "2  [{'name': 'Domhnall Gleeson', 'gender': 2}, {'...  ['Richard Curtis']  \n",
       "3  [{'name': 'Richard Gere', 'gender': 2}, {'name...  ['Garry Marshall']  \n",
       "4  [{'name': 'Kim Min-hee', 'gender': 1}, {'name'...  ['Park Chan-wook']  "
      ]
     },
     "execution_count": 20,
     "metadata": {},
     "output_type": "execute_result"
    }
   ],
   "source": [
    "inputcsv = 'data/generated/working_combined_diaries.csv'\n",
    "df = pd.read_csv(inputcsv)\n",
    "df.head(5)"
   ]
  },
  {
   "cell_type": "markdown",
   "id": "c8d1c531",
   "metadata": {},
   "source": [
    "There were some issues with date values being in the 2-digit year format, so I converted them to the 4-digit year format in Excel. I also converted the date columns to datetime format.\n",
    "> Some of the values were incorrect so I had to manually correct them as well. (E.g., 34 != 2034, but 1934 instead)"
   ]
  },
  {
   "cell_type": "code",
   "execution_count": 28,
   "id": "dcbf7394",
   "metadata": {},
   "outputs": [],
   "source": [
    "# Had to manually datetime date columns in Excel bc datetime function sucks\n",
    "df['watched_date'] = pd.to_datetime(df['watched_date'], errors='coerce')\n",
    "df['release_date'] = pd.to_datetime(df['release_date'], errors='coerce')\n"
   ]
  },
  {
   "cell_type": "markdown",
   "id": "98cf09bc",
   "metadata": {},
   "source": [
    "## KPIs / General Summary of Data"
   ]
  },
  {
   "cell_type": "markdown",
   "id": "36f64ae3",
   "metadata": {},
   "source": [
    "Let's find out some general information about my watch history."
   ]
  },
  {
   "cell_type": "code",
   "execution_count": 4,
   "id": "7b305ec6",
   "metadata": {},
   "outputs": [
    {
     "name": "stdout",
     "output_type": "stream",
     "text": [
      "KPIs | General Summary of Data\n",
      "Timeframe: 2021-05-03 00:00:00 - 2024-05-01 00:00:00\n",
      "Days in between the first and last entry: 1094\n",
      "\n",
      "Entries Count: 326\n",
      "Total Watchtime: 26 days, 1 hours, and 13 minutes\n",
      "Unique Directors Watched: 62\n",
      "Origin Countries: 24\n",
      "Average rating: 3.43\n",
      ">1 Film Days: 61\n"
     ]
    }
   ],
   "source": [
    "print('KPIs | General Summary of Data')\n",
    "\n",
    "# Describe timeframe\n",
    "earliest_entry = min(df['watched_date'])\n",
    "latest_entry = max(df['watched_date'])\n",
    "print(f'Timeframe: {earliest_entry} - {latest_entry}')\n",
    "\n",
    "# Days in between the first and last entry\n",
    "days_between = (latest_entry - earliest_entry).days\n",
    "print(f'Days in between the first and last entry: {days_between}\\n')\n",
    "\n",
    "# Number of Entries\n",
    "count_entries = len(df)\n",
    "print(f'Entries Count: {count_entries}')\n",
    "\n",
    "# Watchtime\n",
    "total_runtime = df['runtime'].sum()\n",
    "days_total = total_runtime // (24 * 60)\n",
    "hours_total = (total_runtime % (24 * 60)) // 60\n",
    "minutes_total = total_runtime % 60\n",
    "print(f'Total Watchtime: {days_total:.0f} days, {hours_total:.0f} hours, and {minutes_total:.0f} minutes')\n",
    "\n",
    "# Directors Watched\n",
    "# Ensure 'director' column values are lists\n",
    "df['director'] = df['director'].apply(lambda x: tuple(x) if isinstance(x, str) else x)\n",
    "data_exploded = df.explode('director')\n",
    "unique_directors = data_exploded['director'].nunique()\n",
    "print(f'Unique Directors Watched: {unique_directors}')\n",
    "\n",
    "# Origin Countries Watched\n",
    "# Ensure 'origin_country' column values are lists\n",
    "df['origin_country'] = df['origin_country'].apply(lambda x: tuple(x) if isinstance(x, str) else x)\n",
    "data_exploded = df.explode('origin_country')\n",
    "unique_countries = data_exploded['origin_country'].nunique()\n",
    "print(f'Origin Countries: {unique_countries}')\n",
    "\n",
    "# Average rating rounded to two decimals\n",
    "with_ratings = df[(df['rating'].notna()) & (df['rating'] != '')]\n",
    "# Average rating rounded to two decimals\n",
    "avg_rating = with_ratings['rating'].mean()\n",
    "print(f\"Average rating: {avg_rating:.2f}\")\n",
    "\n",
    "# >1 Film Days\n",
    "entries_by_date = df.groupby('watched_date').size()\n",
    "# Filter out the days with more than one movie\n",
    "days_with_more_than_one_movie = entries_by_date[entries_by_date > 1]\n",
    "print(f\">1 Film Days: {len(days_with_more_than_one_movie)}\")"
   ]
  },
  {
   "cell_type": "markdown",
   "id": "048704ef",
   "metadata": {},
   "source": [
    "In what is essentially 1k days, I feel like I've watched a considerable amount of movies! There are also a lot of days where I watched multiple movies."
   ]
  },
  {
   "cell_type": "markdown",
   "id": "2c1049bd",
   "metadata": {},
   "source": [
    "# Exploratory Data Analysis\n",
    "Let's explore the data to see if we can find any interesting patterns or insights."
   ]
  },
  {
   "cell_type": "code",
   "execution_count": 29,
   "id": "78568607",
   "metadata": {},
   "outputs": [
    {
     "name": "stdout",
     "output_type": "stream",
     "text": [
      "Oldest Movie: Death Takes a Holiday (1934-03-30T00:00:00.000000000)\n",
      "Latest Movie: Godzilla x Kong: The New Empire (2024-03-27T00:00:00.000000000)\n"
     ]
    },
    {
     "data": {
      "image/png": "[encoded data removed]",
      "text/plain": [
       "<Figure size 640x480 with 1 Axes>"
      ]
     },
     "metadata": {},
     "output_type": "display_data"
    }
   ],
   "source": [
    "# Extract the year from the release_date column\n",
    "df['release_year'] = df['release_date'].dt.year\n",
    "\n",
    "# Count the number of movies watched per year\n",
    "movies_per_year = df['release_year'].value_counts().sort_index()\n",
    "movies_per_year.plot(kind='bar',title='Count by Release Year')\n",
    "\n",
    "# Oldest and latest movie watched; title and release date\n",
    "oldest_movie = df[df['release_date'] == df['release_date'].min()]\n",
    "latest_movie = df[df['release_date'] == df['release_date'].max()]\n",
    "print(f'Oldest Movie: {oldest_movie[\"name\"].values[0]} ({oldest_movie[\"release_date\"].values[0]})')\n",
    "print(f'Latest Movie: {latest_movie[\"name\"].values[0]} ({latest_movie[\"release_date\"].values[0]})')"
   ]
  },
  {
   "cell_type": "code",
   "execution_count": 60,
   "id": "7cd00420",
   "metadata": {},
   "outputs": [
    {
     "name": "stdout",
     "output_type": "stream",
     "text": [
      "Decade Release Counts:\n",
      "release_date\n",
      "1930      1\n",
      "1940      2\n",
      "1970      5\n",
      "1980      5\n",
      "1990     29\n",
      "2000     73\n",
      "2010    119\n",
      "2020     92\n",
      "Name: count, dtype: int64\n"
     ]
    },
    {
     "data": {
      "text/plain": [
       "<Axes: title={'center': 'Decade Release Counts'}, xlabel='release_date'>"
      ]
     },
     "execution_count": 60,
     "metadata": {},
     "output_type": "execute_result"
    },
    {
     "data": {
      "image/png": "[encoded data removed]",
      "text/plain": [
       "<Figure size 640x480 with 1 Axes>"
      ]
     },
     "metadata": {},
     "output_type": "display_data"
    }
   ],
   "source": [
    "# entries by decade release | count of entries by year bar graph\n",
    "decade_release_counts = df['release_date'].dt.year // 10 * 10\n",
    "decade_release_counts = decade_release_counts.value_counts().sort_index()\n",
    "\n",
    "year_release_counts = df['release_date'].map(lambda x: x.year).value_counts().sort_index()\n",
    "\n",
    "\n",
    "# Print the sorted decade release counts\n",
    "print(\"Decade Release Counts:\")\n",
    "print(decade_release_counts)\n",
    "\n",
    "# Chart the decade release counts\n",
    "decade_release_counts.plot(kind='bar',title='Decade Release Counts')"
   ]
  },
  {
   "cell_type": "code",
   "execution_count": 7,
   "id": "40240b10",
   "metadata": {},
   "outputs": [
    {
     "data": {
      "text/plain": [
       "<Axes: title={'center': 'Entries by Year of Release'}, xlabel='release_date'>"
      ]
     },
     "execution_count": 7,
     "metadata": {},
     "output_type": "execute_result"
    },
    {
     "data": {
      "image/png": "[encoded data removed]",
      "text/plain": [
       "<Figure size 640x480 with 1 Axes>"
      ]
     },
     "metadata": {},
     "output_type": "display_data"
    }
   ],
   "source": [
    "# bar graph of entries by year release\n",
    "year_release_counts.plot(kind='bar', title='Entries by Year of Release')"
   ]
  },
  {
   "cell_type": "markdown",
   "id": "3d6ed12e",
   "metadata": {},
   "source": [
    "As expected, I've watched more movies that were released in the last 20 years. Let's now figure out what years within the timeframe I've watched the most movies. I remember 2023 being a movie-heavy year -- I made a conscious effort to watch more movies that year and hit 100 movies. Let's see if that's true."
   ]
  },
  {
   "cell_type": "code",
   "execution_count": 8,
   "id": "e45beb88",
   "metadata": {},
   "outputs": [
    {
     "name": "stdout",
     "output_type": "stream",
     "text": [
      "Yearly Counts:\n",
      "watched_date\n",
      "2021     65\n",
      "2022     52\n",
      "2023    152\n",
      "2024     57\n",
      "Name: count, dtype: int64\n",
      "Monthly Counts:\n",
      "watched_date\n",
      "1     57\n",
      "2     33\n",
      "3     35\n",
      "4     47\n",
      "5     17\n",
      "6     10\n",
      "7     19\n",
      "8     29\n",
      "9     19\n",
      "10    18\n",
      "11    20\n",
      "12    22\n",
      "Name: count, dtype: int64\n"
     ]
    }
   ],
   "source": [
    "# number of movies watched per year | month graph each year | count() for weekday\n",
    "year_counts = df['watched_date'].map(lambda x: x.year).value_counts().sort_index()\n",
    "\n",
    "month_counts = df['watched_date'].map(lambda x: x.month).value_counts().sort_index()\n",
    "\n",
    "\n",
    "# Print the sorted year counts\n",
    "print(\"Yearly Counts:\")\n",
    "print(year_counts)\n",
    "\n",
    "# Print the sorted month counts\n",
    "print(\"Monthly Counts:\")\n",
    "print(month_counts)"
   ]
  },
  {
   "cell_type": "markdown",
   "id": "93fdf2a4",
   "metadata": {},
   "source": [
    "As expected, because of the goal I set for myself in 2023, there was a considerable spike in movies watched. 2024 is also shaping up to be movie-heavy since the data ends May 2024. Let's now see my ratings distribution. I'm curious to see if I'm a harsh critic or not."
   ]
  },
  {
   "cell_type": "code",
   "execution_count": 9,
   "id": "9c8a8ff2",
   "metadata": {},
   "outputs": [
    {
     "data": {
      "text/plain": [
       "<Axes: title={'center': 'Count of Ratings'}, xlabel='rating'>"
      ]
     },
     "execution_count": 9,
     "metadata": {},
     "output_type": "execute_result"
    },
    {
     "data": {
      "image/png": "[encoded data removed]",
      "text/plain": [
       "<Figure size 640x480 with 1 Axes>"
      ]
     },
     "metadata": {},
     "output_type": "display_data"
    }
   ],
   "source": [
    "count_with_ratings = with_ratings['rating'].value_counts().sort_index()\n",
    "# Bar graph of ratings\n",
    "count_with_ratings.plot(kind='bar', title='Count of Ratings')"
   ]
  },
  {
   "cell_type": "markdown",
   "id": "8ca5762a",
   "metadata": {},
   "source": [
    "I feel like I need to watch more \"bad\" movies. I'm not sure if I'm a harsh critic or if I just have good taste."
   ]
  },
  {
   "cell_type": "code",
   "execution_count": 10,
   "id": "5e544923",
   "metadata": {},
   "outputs": [
    {
     "name": "stdout",
     "output_type": "stream",
     "text": [
      "Number of rewatches: 100\n",
      "Number of new watches: 226\n",
      "Percentage of rewatches: 31%\n"
     ]
    }
   ],
   "source": [
    "rewatch_count = df[df['rewatch'] == 'Yes'].shape[0]\n",
    "# Print the count\n",
    "print(f\"Number of rewatches: {rewatch_count}\")\n",
    "\n",
    "newwatch_count = df['rewatch'].isna().sum()\n",
    "# Print the count\n",
    "print(f\"Number of new watches: {newwatch_count}\")\n",
    "\n",
    "percentage_rewatch = format(rewatch_count / (count_entries),\".0%\")\n",
    "print(f'Percentage of rewatches: {percentage_rewatch}')"
   ]
  },
  {
   "cell_type": "markdown",
   "id": "e5a9506e",
   "metadata": {},
   "source": [
    "Pretty high rewatch count! Let's see if I rate movies differently on rewatch. "
   ]
  },
  {
   "cell_type": "code",
   "execution_count": 11,
   "id": "def93c4d",
   "metadata": {},
   "outputs": [
    {
     "name": "stdout",
     "output_type": "stream",
     "text": [
      "Ratings for movies I've watched more than once:\n",
      "                                                  name  rating watched_date\n",
      "2                                           About Time     4.5   2021-05-24\n",
      "36                                          About Time     4.5   2021-09-15\n",
      "224                                     Before Sunrise     5.0   2023-06-21\n",
      "241                                     Before Sunrise     5.0   2023-09-14\n",
      "24   Birds of Prey (and the Fantabulous Emancipatio...     3.5   2021-08-13\n",
      "313  Birds of Prey (and the Fantabulous Emancipatio...     3.0   2024-04-06\n",
      "12                                Call Me by Your Name     4.5   2021-07-28\n",
      "80                                Call Me by Your Name     4.5   2022-02-16\n",
      "14                                    Django Unchained     4.0   2021-08-05\n",
      "210                                   Django Unchained     4.0   2023-04-27\n",
      "84                                       Don't Look Up     3.5   2022-04-15\n",
      "154                                      Don't Look Up     4.0   2023-02-03\n",
      "49                                          Downsizing     2.0   2021-10-30\n",
      "316                                         Downsizing     2.5   2024-04-11\n",
      "57                                                Dune     3.5   2021-11-19\n",
      "319                                               Dune     4.0   2024-04-19\n",
      "0                                    Godzilla vs. Kong     3.0   2021-05-03\n",
      "264                                  Godzilla vs. Kong     3.5   2023-12-08\n",
      "297                                          Imaginary     1.5   2024-03-24\n",
      "301                                          Imaginary     1.5   2024-03-26\n",
      "20                                         Tower Heist     NaN   2021-08-11\n",
      "298                                        Tower Heist     2.0   2024-03-25\n",
      "48                                      Train to Busan     4.0   2021-10-30\n",
      "211                                     Train to Busan     3.0   2023-04-30\n"
     ]
    }
   ],
   "source": [
    "# List of rewatched films within timeframe; number of occurrences, their watch dates, and their ratings. ordered by name and watched_date\n",
    "name_counts = df['name'].value_counts()\n",
    "multiple_occurrences = name_counts[name_counts > 1]\n",
    "multiple_occurrences_detailed = df[df['name'].isin(multiple_occurrences.index)].sort_values(['name','watched_date'])[['name', 'rating','watched_date']]\n",
    "print(\"Ratings for movies I've watched more than once:\")\n",
    "print(multiple_occurrences_detailed)"
   ]
  },
  {
   "cell_type": "markdown",
   "id": "8a288cd0",
   "metadata": {},
   "source": [
    "I tend to rate movies higher on rewatch. I think this is because I know what to expect and can appreciate the movie more. I also tend to rewatch movies I like, so that could be a factor as well. Except for the movie Imaginary (which is an error in the data), Typically, I've only rewatched movies I've rated more than 3 stars. I think I should rewatch some of the movies I've rated lower to see if my opinion changes, like Downsizing which went from 2.0 to 2.5. Train to Busan lost a star on rewatch, I wonder why. I remember liking it a lot the first time I watched it.\n",
    "\n",
    "Let's now see what days I watch movies the most. I'm curious to see if I have a movie-watching pattern."
   ]
  },
  {
   "cell_type": "code",
   "execution_count": 12,
   "id": "d3a3ecbf",
   "metadata": {},
   "outputs": [
    {
     "name": "stdout",
     "output_type": "stream",
     "text": [
      "Day(s) when the most movies were watched: [datetime.date(2021, 7, 3) datetime.date(2023, 11, 2)]\n",
      "Movies watched on those day(s):\n",
      "                                                  name watched_date rewatch\n",
      "5                                          Hello World   2021-07-03     NaN\n",
      "6                             5 Centimeters per Second   2021-07-03     NaN\n",
      "7                                           Your Name.   2021-07-03     Yes\n",
      "8                                             Horimiya   2021-07-03     NaN\n",
      "249                             The Day After Tomorrow   2023-11-02     Yes\n",
      "250                      The Day the Earth Stood Still   2023-11-02     Yes\n",
      "251  Percy Jackson & the Olympians: The Lightning T...   2023-11-02     Yes\n",
      "252                                       Fire of Love   2023-11-02     NaN\n"
     ]
    }
   ],
   "source": [
    "# day when i watched the most amount of movies\n",
    "\n",
    "most_watched_day = df['watched_date'].mode()\n",
    "\n",
    "movies_on_most_watched_day = df[df['watched_date'].isin(most_watched_day)]\n",
    "\n",
    "print(f\"Day(s) when the most movies were watched: {most_watched_day.dt.date.values}\")\n",
    "print(\"Movies watched on those day(s):\")\n",
    "print(movies_on_most_watched_day[['name', 'watched_date','rewatch']])"
   ]
  },
  {
   "cell_type": "markdown",
   "id": "07794ac0",
   "metadata": {},
   "source": [
    "Wow, seems like I had an animation-heavy day on 2021-07-03 ! I also remember the 2nd day to be a particularly lazy one and I wanted to rewatch movies and not delve into new ones. These days, I remember, I set to be a movie marathon day."
   ]
  },
  {
   "cell_type": "code",
   "execution_count": 25,
   "id": "8b95fdfa",
   "metadata": {},
   "outputs": [],
   "source": [
    "# most watched director | max(count(director))\n",
    "\n",
    "# Ensure 'director' column values are lists\n",
    "df['director'] = df['director'].apply(lambda x: eval(x) if isinstance(x, str) else x)\n",
    "\n",
    "director_data_exploded = df.explode('director')"
   ]
  },
  {
   "cell_type": "markdown",
   "id": "d31fbed3",
   "metadata": {},
   "source": [
    "Now that we've prepared our director data, let's see who my favorite directors are."
   ]
  },
  {
   "cell_type": "code",
   "execution_count": 26,
   "id": "4247004d",
   "metadata": {},
   "outputs": [
    {
     "name": "stdout",
     "output_type": "stream",
     "text": [
      "Directors watched the most:\n",
      "director\n",
      "Quentin Tarantino    6\n",
      "Denis Villeneuve     6\n",
      "Sam Raimi            4\n",
      "Ridley Scott         4\n",
      "Matt Reeves          4\n",
      "                    ..\n",
      "Alfred Hitchcock     1\n",
      "Mark Waters          1\n",
      "Mel Gibson           1\n",
      "Joel Coen            1\n",
      "Edgar Wright         1\n",
      "Name: count, Length: 256, dtype: int64\n",
      "Number of unique directors: 256\n"
     ]
    }
   ],
   "source": [
    "# Count the occurrences of each director\n",
    "director_counts = director_data_exploded['director'].value_counts()\n",
    "\n",
    "# Print the directors watched the most\n",
    "print(\"Directors watched the most:\")\n",
    "print(director_counts)\n",
    "\n",
    "# number of unique directors\n",
    "unique_directors = director_data_exploded['director'].nunique()\n",
    "print(f\"Number of unique directors: {unique_directors}\")"
   ]
  },
  {
   "cell_type": "markdown",
   "id": "26d42dec",
   "metadata": {},
   "source": [
    "My top directors tend to be style-heavy directors. People who have a distinct style that I particularly enjoy. I'm surprised Edgar Wright isn't in the top. I guess I haven't watched a lot of his movies in this timeframe; I enjoy his direction and typically think of him when I think of comedic editing. Let's see the data for actors now."
   ]
  },
  {
   "cell_type": "code",
   "execution_count": 22,
   "id": "10c2fc7c",
   "metadata": {},
   "outputs": [],
   "source": [
    "# most watched cast | max(count(actor))\n",
    "\n",
    "# Ensure 'cast' column values are lists of dictionaries\n",
    "df['cast'] = df['cast'].apply(lambda x: ast.literal_eval(x) if isinstance(x, str) else x)\n",
    "\n",
    "# Extract actor names from the list of dictionaries\n",
    "df['cast'] = df['cast'].apply(lambda cast_list: [actor['name'] for actor in cast_list] if isinstance(cast_list, list) else cast_list)\n",
    "\n",
    "# Explode the 'cast' column to have one actor per row\n",
    "cast_data_exploded = df.explode('cast')"
   ]
  },
  {
   "cell_type": "code",
   "execution_count": 23,
   "id": "ca875bab",
   "metadata": {},
   "outputs": [
    {
     "name": "stdout",
     "output_type": "stream",
     "text": [
      "Actors watched the most:\n",
      "cast\n",
      "Samuel L. Jackson     13\n",
      "Brad Pitt             12\n",
      "J.K. Simmons          10\n",
      "Chris Pratt           10\n",
      "Scarlett Johansson     9\n",
      "Willem Dafoe           9\n",
      "Dave Bautista          9\n",
      "David Dastmalchian     8\n",
      "Stan Lee               8\n",
      "Paul Rudd              8\n",
      "James Franco           8\n",
      "Margot Robbie          8\n",
      "Name: count, dtype: int64\n"
     ]
    }
   ],
   "source": [
    "# Count the occurrences of each actor\n",
    "actor_counts = cast_data_exploded['cast'].value_counts()\n",
    "# Print the most watched actors watched at least 8 times; arbitrary number\n",
    "print(\"Actors watched the most:\")\n",
    "print(actor_counts[actor_counts >= 8])"
   ]
  },
  {
   "cell_type": "markdown",
   "id": "035efe9a",
   "metadata": {},
   "source": [
    "Heavy-hitters for sure. Mostly A-listers which is expected. I finally put a name to the face for some of the actors I've seen in multiple movies (David Dastmalchian!). I'm not surprised to see a lot of Marvel actors in the list. I've watched a lot of Marvel movies in this timeframe. Willem Dafoe is a surprise, I didn't realize I've watched so many movies with him in it. Let's see the data for genres now. "
   ]
  },
  {
   "cell_type": "code",
   "execution_count": 30,
   "id": "7f4b3318",
   "metadata": {},
   "outputs": [
    {
     "name": "stdout",
     "output_type": "stream",
     "text": [
      "Movies with Willem Dafoe:\n",
      "                             name release_date  rating\n",
      "62                     Spider-Man   2002-05-01     NaN\n",
      "63                   Spider-Man 2   2004-06-25     NaN\n",
      "64                   Spider-Man 3   2007-05-01     NaN\n",
      "78        Spider-Man: No Way Home   2021-12-15     4.5\n",
      "129                The Lighthouse   2019-10-18     4.0\n",
      "187                     John Wick   2014-10-22     3.0\n",
      "267                 Asteroid City   2023-06-08     4.0\n",
      "277  Murder on the Orient Express   2017-11-03     3.0\n",
      "283                   Poor Things   2023-12-07     5.0\n",
      "Movies with David Dastmalchian:\n",
      "                                  name release_date  rating\n",
      "17                   The Suicide Squad   2021-07-28     3.5\n",
      "22                             Ant-Man   2015-07-14     3.0\n",
      "25                     The Dark Knight   2008-07-16     5.0\n",
      "46                   Blade Runner 2049   2017-10-04     3.5\n",
      "57                                Dune   2021-09-15     3.5\n",
      "172  Ant-Man and the Wasp: Quantumania   2023-02-15     3.0\n",
      "289                        Oppenheimer   2023-07-19     4.5\n",
      "319                               Dune   2021-09-15     4.0\n"
     ]
    }
   ],
   "source": [
    "# Movies with Willem Dafoe\n",
    "willem_dafoe_movies = cast_data_exploded[cast_data_exploded['cast'] == 'Willem Dafoe']\n",
    "print(\"Movies with Willem Dafoe:\")\n",
    "print(willem_dafoe_movies[['name', 'release_date', 'rating']])\n",
    "\n",
    "# Movies with David Dastmalchian\n",
    "david_dastmalchian_movies = cast_data_exploded[cast_data_exploded['cast'] == 'David Dastmalchian']\n",
    "print(\"Movies with David Dastmalchian:\")\n",
    "print(david_dastmalchian_movies[['name', 'release_date', 'rating']])"
   ]
  },
  {
   "cell_type": "markdown",
   "id": "25a3eb84",
   "metadata": {},
   "source": [
    "Let's explode the genres column and see what genres I watch the most."
   ]
  },
  {
   "cell_type": "code",
   "execution_count": 31,
   "id": "666a6100",
   "metadata": {},
   "outputs": [],
   "source": [
    "# by genre\n",
    "\n",
    "# Ensure 'genres' column values are lists\n",
    "df['genres'] = df['genres'].apply(lambda x: eval(x) if isinstance(x, str) else x)\n",
    "\n",
    "genre_data_exploded = df.explode('genres')"
   ]
  },
  {
   "cell_type": "code",
   "execution_count": 32,
   "id": "f0915958",
   "metadata": {},
   "outputs": [
    {
     "name": "stdout",
     "output_type": "stream",
     "text": [
      "Genres watched the most with average ratings:\n",
      "                 count    rating\n",
      "genres                          \n",
      "Drama              141  3.683824\n",
      "Comedy             129  3.326087\n",
      "Action              85  3.317568\n",
      "Science Fiction     77  3.260563\n",
      "Adventure           74  3.375000\n",
      "Romance             72  3.291045\n",
      "Thriller            57  3.281818\n",
      "Crime               48  3.465909\n",
      "Fantasy             40  3.500000\n",
      "Mystery             27  3.333333\n",
      "Animation           24  3.595238\n",
      "Horror              21  3.190476\n",
      "Family              20  3.764706\n",
      "History             11  3.818182\n",
      "War                  9  3.888889\n",
      "Documentary          5  3.500000\n",
      "Western              4  3.875000\n",
      "Music                4  3.875000\n"
     ]
    }
   ],
   "source": [
    "# Count the occurrences of each genre\n",
    "genre_counts = genre_data_exploded['genres'].value_counts()\n",
    "\n",
    "# Calculate the average rating for each genre\n",
    "genre_ratings = genre_data_exploded.groupby('genres')['rating'].mean()\n",
    "\n",
    "# Create a DataFrame from genre_counts to merge\n",
    "genre_counts_df = genre_counts.to_frame(name='count')\n",
    "\n",
    "# Merge the counts with the average ratings\n",
    "combined_data = genre_counts_df.merge(genre_ratings, on='genres')\n",
    "\n",
    "# Sort the combined data by the count of genres in descending order\n",
    "combined_data_sorted = combined_data.sort_values('count', ascending=False)\n",
    "\n",
    "# Print the genres watched the most with their average rating\n",
    "print(\"Genres watched the most with average ratings:\")\n",
    "print(combined_data_sorted)\n"
   ]
  },
  {
   "cell_type": "markdown",
   "id": "7fd264ca",
   "metadata": {},
   "source": [
    "Dramas and Comedies I've watched the most! As expected, Horror is pretty far down since I'm not the biggest fan. I really need to watch more Documentaries and Westerns."
   ]
  },
  {
   "cell_type": "code",
   "execution_count": 33,
   "id": "603adb76",
   "metadata": {},
   "outputs": [],
   "source": [
    "# Ensure 'origin_country' column values are lists\n",
    "df['origin_country'] = df['origin_country'].apply(lambda x: eval(x) if isinstance(x, str) else x)\n",
    "\n",
    "country_data_exploded = df.explode('origin_country')"
   ]
  },
  {
   "cell_type": "code",
   "execution_count": 34,
   "id": "98d55299",
   "metadata": {},
   "outputs": [
    {
     "name": "stdout",
     "output_type": "stream",
     "text": [
      "Origin Countries watched the most:\n",
      "origin_country\n",
      "US    279\n",
      "GB     33\n",
      "PH     12\n",
      "JP      8\n",
      "CA      7\n",
      "FR      4\n",
      "KR      4\n",
      "DE      4\n",
      "ES      3\n",
      "NZ      2\n",
      "TW      2\n",
      "CN      1\n",
      "TH      1\n",
      "FI      1\n",
      "AT      1\n",
      "IE      1\n",
      "IT      1\n",
      "AU      1\n",
      "Name: count, dtype: int64\n"
     ]
    }
   ],
   "source": [
    "# Count the occurrences of each director\n",
    "country_counts = country_data_exploded['origin_country'].value_counts()\n",
    "\n",
    "# Print the directors watched the most\n",
    "print(\"Origin Countries watched the most:\")\n",
    "print(country_counts)"
   ]
  },
  {
   "cell_type": "markdown",
   "id": "bc2f3c19",
   "metadata": {},
   "source": [
    "As expected, most movies originate from the US. I should watch more PH movies to support local cinema."
   ]
  },
  {
   "cell_type": "code",
   "execution_count": 35,
   "id": "2a003494",
   "metadata": {},
   "outputs": [
    {
     "name": "stdout",
     "output_type": "stream",
     "text": [
      "Average popularity:\n",
      "107.15149999999998\n",
      "\n",
      "Least popularity:\n",
      "0.045\n",
      "\n",
      "Least popular movie watched:\n",
      "209    Hunger\n",
      "Name: name, dtype: object\n"
     ]
    }
   ],
   "source": [
    "# do I watch generally popular movies? what is the least popular movie I've watched?\n",
    "avg_popularity = df['popularity'].mean()\n",
    "min_popularity = df['popularity'].min()\n",
    "\n",
    "least_popular_movie = df[df['popularity'] == min_popularity]\n",
    "\n",
    "print(\"Average popularity:\")\n",
    "print(avg_popularity)\n",
    "\n",
    "print(\"\\nLeast popularity:\")\n",
    "print(min_popularity)\n",
    "print(\"\\nLeast popular movie watched:\")\n",
    "print(least_popular_movie['name'])\n"
   ]
  },
  {
   "cell_type": "code",
   "execution_count": 36,
   "id": "daf0b7a9",
   "metadata": {},
   "outputs": [
    {
     "name": "stdout",
     "output_type": "stream",
     "text": [
      "Average vote:\n",
      "7.169236923076924\n",
      "\n",
      "Highest rated movie watched with 9.0 rating:\n",
      "['Horimiya']\n",
      "\n",
      "Lowest rated movie watched with 4.5 rating:\n",
      "['Pinoy Sunday']\n"
     ]
    }
   ],
   "source": [
    "# do I watch generally highly-rated movies? what is the lowest rating movie I've watched?\n",
    "\n",
    "# Remove rows with 0 vote_average\n",
    "vote_filtered_data = df[df['vote_average'] != 0]\n",
    "\n",
    "# Calculate the average, minimum, and maximum ratings\n",
    "avg_rating = vote_filtered_data['vote_average'].mean()\n",
    "min_rating = vote_filtered_data['vote_average'].min()\n",
    "max_rating = vote_filtered_data['vote_average'].max()\n",
    "\n",
    "# Find the highest and lowest rated movies\n",
    "highest_rating_movie = vote_filtered_data[vote_filtered_data['vote_average'] == max_rating]['name']\n",
    "lowest_rating_movie = vote_filtered_data[vote_filtered_data['vote_average'] == min_rating]['name']\n",
    "\n",
    "# Print the results\n",
    "print(\"Average vote:\")\n",
    "print(avg_rating)\n",
    "\n",
    "print(f\"\\nHighest rated movie watched with {max_rating} rating:\")\n",
    "print(highest_rating_movie.values)\n",
    "\n",
    "print(f\"\\nLowest rated movie watched with {min_rating} rating:\")\n",
    "print(lowest_rating_movie.values)"
   ]
  },
  {
   "cell_type": "markdown",
   "id": "73715a24",
   "metadata": {},
   "source": [
    "vote_average seems to be untrustworthy data, so might as well just ignore it. Let's see some data on movies I've rated 4.5 and above."
   ]
  },
  {
   "cell_type": "markdown",
   "id": "9e93c49b",
   "metadata": {},
   "source": [
    "# Personal High Ratings\n",
    "Let's explore the movies I've rated 4.5 and above. I'm curious to see if there are any patterns or if I can find any interesting insights."
   ]
  },
  {
   "cell_type": "code",
   "execution_count": 40,
   "id": "7a3bf7b0",
   "metadata": {},
   "outputs": [],
   "source": [
    "personal_high_ratings = df[df['rating'] >= 4.5]"
   ]
  },
  {
   "cell_type": "code",
   "execution_count": 51,
   "id": "0cb2b838",
   "metadata": {},
   "outputs": [
    {
     "name": "stdout",
     "output_type": "stream",
     "text": [
      "Personal High Ratings; Genres watched the most:\n",
      "                 count  percentage\n",
      "genres                            \n",
      "Music                2   50.000000\n",
      "War                  4   44.444444\n",
      "History              3   27.272727\n",
      "Mystery              7   25.925926\n",
      "Family               5   25.000000\n",
      "Drama               33   23.404255\n",
      "Animation            5   20.833333\n",
      "Romance             14   19.444444\n",
      "Crime                9   18.750000\n",
      "Thriller            10   17.543860\n",
      "Fantasy              7   17.500000\n",
      "Science Fiction     11   14.285714\n",
      "Action              12   14.117647\n",
      "Comedy              18   13.953488\n",
      "Adventure            9   12.162162\n",
      "Horror               2    9.523810\n"
     ]
    }
   ],
   "source": [
    "# Explode the 'genres' column to have one genre per row\n",
    "personal_high_ratings_genre_data_exploded = personal_high_ratings.explode('genres')\n",
    "\n",
    "# Count the occurrences of each genre\n",
    "personal_high_ratings_genre_counts = personal_high_ratings_genre_data_exploded['genres'].value_counts()\n",
    "\n",
    "# Add data from genre_counts that adds count of all genres and the percentage of highly rated movies\n",
    "personal_high_ratings_genre_counts_df = personal_high_ratings_genre_counts.to_frame(name='count')\n",
    "personal_high_ratings_genre_counts_df['percentage'] = (personal_high_ratings_genre_counts_df['count'] / genre_counts) * 100\n",
    "\n",
    "# Print the PHR genres watched the most w/ percentage of all genres watched\n",
    "print(\"Personal High Ratings; Genres watched the most:\")\n",
    "print(personal_high_ratings_genre_counts_df.sort_values('percentage', ascending=False))"
   ]
  },
  {
   "cell_type": "markdown",
   "id": "9b0d329a",
   "metadata": {},
   "source": [
    "Despite the low count, Music genre seems to be better rated when compared to the total genre count. Same with War, History, and Mystery. Maybe these are genres I should watch more of. Let's see PHR data for directors."
   ]
  },
  {
   "cell_type": "code",
   "execution_count": 59,
   "id": "6be6f0d7",
   "metadata": {},
   "outputs": [
    {
     "name": "stdout",
     "output_type": "stream",
     "text": [
      "Personal High Ratings; Directors watched the most:\n",
      "                     count  percentage\n",
      "director                              \n",
      "Christopher Nolan        3   75.000000\n",
      "Richard Linklater        3   75.000000\n",
      "Richard Curtis           2   66.666667\n",
      "Luca Guadagnino          2  100.000000\n",
      "Denis Villeneuve         2   33.333333\n",
      "James Gunn               1   33.333333\n",
      "Lin-Manuel Miranda       1  100.000000\n",
      "Jordan Peele             1  100.000000\n",
      "Pete Docter              1  100.000000\n",
      "Matthew Vaughn           1   33.333333\n",
      "Dan Scanlon              1  100.000000\n",
      "Jerrold Tarog            1   50.000000\n",
      "Tom Gormican             1  100.000000\n",
      "Gil Portes               1  100.000000\n",
      "Jason Woliner            1  100.000000\n",
      "David Leitch             1   50.000000\n",
      "Craig Gillespie          1  100.000000\n",
      "Hayao Miyazaki           1   50.000000\n",
      "Ryan Coogler             1  100.000000\n",
      "Taika Waititi            1   25.000000\n",
      "Anthony Russo            1  100.000000\n",
      "Joe Russo                1  100.000000\n",
      "John Hughes              1  100.000000\n",
      "Matt Reeves              1   25.000000\n",
      "George Miller            1  100.000000\n",
      "Yorgos Lanthimos         1   50.000000\n",
      "J. A. Bayona             1   50.000000\n",
      "Noah Baumbach            1   33.333333\n",
      "Joe Johnston             1  100.000000\n",
      "Éric Toledano            1  100.000000\n",
      "Olivier Nakache          1  100.000000\n",
      "Daniel Kwan              1   50.000000\n",
      "Ang Lee                  1  100.000000\n",
      "David Fincher            1   25.000000\n",
      "Drew Goddard             1  100.000000\n",
      "Dan Gilroy               1  100.000000\n",
      "McKenna Jean Harris      1  100.000000\n",
      "Frank Darabont           1  100.000000\n",
      "Quentin Tarantino        1   16.666667\n",
      "David Mirkin             1  100.000000\n",
      "Jon Watts                1  100.000000\n",
      "Daniel Scheinert         1   50.000000\n",
      "Jason Reitman            1   50.000000\n",
      "Makoto Shinkai           1   50.000000\n",
      "Bradley Cooper           1  100.000000\n",
      "Rian Johnson             1  100.000000\n",
      "Kenneth Lonergan         1  100.000000\n",
      "Guillermo del Toro       1   50.000000\n",
      "Park Chan-wook           1   50.000000\n",
      "Dome Karukoski           1  100.000000\n",
      "Alex Garland             1   50.000000\n",
      "Josh Gordon              1  100.000000\n",
      "Will Speck               1  100.000000\n",
      "Alfred Hitchcock         1  100.000000\n",
      "Rob Reiner               1  100.000000\n"
     ]
    }
   ],
   "source": [
    "personal_high_ratings_director_data_exploded = personal_high_ratings.explode('director')\n",
    "# Count the occurrences of each director, add data from director_counts that adds count of all directors and the percentage of highly rated movies\n",
    "personal_high_ratings_director_counts = personal_high_ratings_director_data_exploded['director'].value_counts()\n",
    "personal_high_ratings_director_counts_df = personal_high_ratings_director_counts.to_frame(name='count')\n",
    "personal_high_ratings_director_counts_df['percentage'] = (personal_high_ratings_director_counts_df['count'] / director_counts) * 100\n",
    "\n",
    "# Print the directors watched the most\n",
    "print(\"Personal High Ratings; Directors watched the most:\")\n",
    "print(personal_high_ratings_director_counts_df)"
   ]
  },
  {
   "cell_type": "markdown",
   "id": "e65defe5",
   "metadata": {},
   "source": [
    "Richard Linklater feels correct. I loved the Before Trilogy. Quentin Tarantino was at the top for director_counts, but he only has 1 movie in the 4.5+ rating. I guess I don't rate his movies super high. Let's see the same data for actors."
   ]
  },
  {
   "cell_type": "code",
   "execution_count": 58,
   "id": "1d3c2a8c",
   "metadata": {},
   "outputs": [
    {
     "name": "stdout",
     "output_type": "stream",
     "text": [
      "Personal High Ratings; Actors watched the most:\n",
      "                    count  percentage\n",
      "cast                                 \n",
      "Jake Gyllenhaal         4   57.142857\n",
      "Michael Stuhlbarg       4   80.000000\n",
      "Dave Bautista           4   44.444444\n",
      "Ethan Hawke             4   80.000000\n",
      "Bradley Cooper          3   50.000000\n",
      "Terry Notary            3   42.857143\n",
      "Tom Stourton            3   75.000000\n",
      "Julie Delpy             3   75.000000\n",
      "Brad Pitt               3   25.000000\n",
      "Scarlett Johansson      3   33.333333\n",
      "Angela Bassett          3   75.000000\n",
      "Linda Cardellini        3  100.000000\n",
      "Tom Holland             3   60.000000\n",
      "Chris Pratt             3   30.000000\n",
      "Domhnall Gleeson        3   75.000000\n",
      "Samuel L. Jackson       3   23.076923\n",
      "Kyle Bornheimer         3  100.000000\n",
      "Timothée Chalamet       3   42.857143\n",
      "Haruka Abe              3  100.000000\n"
     ]
    }
   ],
   "source": [
    "personal_high_ratings_actor_data_exploded = personal_high_ratings.explode('cast')\n",
    "# Count the occurrences of each actor, add data from actor_counts that adds count of all actors and the percentage of highly rated movies\n",
    "personal_high_ratings_actor_counts = personal_high_ratings_actor_data_exploded['cast'].value_counts()\n",
    "personal_high_ratings_actor_counts_df = personal_high_ratings_actor_counts.to_frame(name='count')\n",
    "personal_high_ratings_actor_counts_df['percentage'] = (personal_high_ratings_actor_counts_df['count'] / actor_counts) * 100\n",
    "\n",
    "# Print the actors watched the most\n",
    "print(\"Personal High Ratings; Actors watched the most:\")\n",
    "print(personal_high_ratings_actor_counts_df[personal_high_ratings_actor_counts>=3])"
   ]
  },
  {
   "cell_type": "markdown",
   "id": "1ac0dffb",
   "metadata": {},
   "source": [
    "Despite Samuel L. Jackson being in a lot of movies, he's not rated very highly. I think this is because he's in a lot of movies; some of them are bound to be bad. "
   ]
  },
  {
   "cell_type": "markdown",
   "id": "9330d7cd",
   "metadata": {},
   "source": [
    "# Conclusion\n",
    "This was a fun exercise! I learned a lot about my movie-watching habits and what I should watch more of. Make sure to check my [Tableau dashboard](https://public.tableau.com/views/LetterboxdAll-TimeStats/Summary?:language=en-US&:sid=&:display_count=n&:origin=viz_share_link) for more insights and visualizations of this dataset."
   ]
  }
 ],
 "metadata": {
  "kernelspec": {
   "display_name": "Python 3 (ipykernel)",
   "language": "python",
   "name": "python3"
  },
  "language_info": {
   "codemirror_mode": {
    "name": "ipython",
    "version": 3
   },
   "file_extension": ".py",
   "mimetype": "text/x-python",
   "name": "python",
   "nbconvert_exporter": "python",
   "pygments_lexer": "ipython3",
   "version": "3.12.3"
  }
 },
 "nbformat": 4,
 "nbformat_minor": 5
}
